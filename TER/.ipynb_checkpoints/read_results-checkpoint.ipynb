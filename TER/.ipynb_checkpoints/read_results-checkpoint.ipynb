{
 "cells": [
  {
   "cell_type": "code",
   "execution_count": null,
   "id": "0e53c429-fcef-4491-a4e9-135e36b52270",
   "metadata": {},
   "outputs": [],
   "source": [
    "import pandas as pd\n",
    "import numpy as np\n",
    "from scipy import stats"
   ]
  },
  {
   "cell_type": "code",
   "execution_count": 69,
   "id": "c4a6a3c5-4362-4021-9e8e-b81355fe47cd",
   "metadata": {},
   "outputs": [
    {
     "data": {
      "text/html": [
       "<div>\n",
       "<style scoped>\n",
       "    .dataframe tbody tr th:only-of-type {\n",
       "        vertical-align: middle;\n",
       "    }\n",
       "\n",
       "    .dataframe tbody tr th {\n",
       "        vertical-align: top;\n",
       "    }\n",
       "\n",
       "    .dataframe thead th {\n",
       "        text-align: right;\n",
       "    }\n",
       "</style>\n",
       "<table border=\"1\" class=\"dataframe\">\n",
       "  <thead>\n",
       "    <tr style=\"text-align: right;\">\n",
       "      <th></th>\n",
       "      <th>Unnamed: 0.1</th>\n",
       "      <th>Unnamed: 0</th>\n",
       "      <th>sub_id</th>\n",
       "      <th>call_id</th>\n",
       "      <th>seg_id</th>\n",
       "      <th>pred_valence</th>\n",
       "      <th>pred_activation</th>\n",
       "      <th>gt_valence</th>\n",
       "      <th>gt_activation</th>\n",
       "      <th>seed</th>\n",
       "      <th>id</th>\n",
       "      <th>exp</th>\n",
       "    </tr>\n",
       "  </thead>\n",
       "  <tbody>\n",
       "    <tr>\n",
       "      <th>0</th>\n",
       "      <td>0</td>\n",
       "      <td>0</td>\n",
       "      <td>2637001</td>\n",
       "      <td>38413</td>\n",
       "      <td>1</td>\n",
       "      <td>0.029232</td>\n",
       "      <td>0.059257</td>\n",
       "      <td>0.250000</td>\n",
       "      <td>0.166667</td>\n",
       "      <td>1</td>\n",
       "      <td>assessment_2637001_38413_1</td>\n",
       "      <td>assessment</td>\n",
       "    </tr>\n",
       "    <tr>\n",
       "      <th>1</th>\n",
       "      <td>1</td>\n",
       "      <td>1</td>\n",
       "      <td>2637001</td>\n",
       "      <td>38413</td>\n",
       "      <td>12</td>\n",
       "      <td>0.165131</td>\n",
       "      <td>0.009661</td>\n",
       "      <td>0.000000</td>\n",
       "      <td>0.000000</td>\n",
       "      <td>1</td>\n",
       "      <td>assessment_2637001_38413_12</td>\n",
       "      <td>assessment</td>\n",
       "    </tr>\n",
       "    <tr>\n",
       "      <th>2</th>\n",
       "      <td>2</td>\n",
       "      <td>2</td>\n",
       "      <td>2637001</td>\n",
       "      <td>38413</td>\n",
       "      <td>15</td>\n",
       "      <td>-0.160544</td>\n",
       "      <td>0.009010</td>\n",
       "      <td>0.000000</td>\n",
       "      <td>0.500000</td>\n",
       "      <td>1</td>\n",
       "      <td>assessment_2637001_38413_15</td>\n",
       "      <td>assessment</td>\n",
       "    </tr>\n",
       "    <tr>\n",
       "      <th>3</th>\n",
       "      <td>3</td>\n",
       "      <td>3</td>\n",
       "      <td>2637001</td>\n",
       "      <td>38413</td>\n",
       "      <td>18</td>\n",
       "      <td>0.155461</td>\n",
       "      <td>0.031854</td>\n",
       "      <td>0.166667</td>\n",
       "      <td>-0.166667</td>\n",
       "      <td>1</td>\n",
       "      <td>assessment_2637001_38413_18</td>\n",
       "      <td>assessment</td>\n",
       "    </tr>\n",
       "    <tr>\n",
       "      <th>4</th>\n",
       "      <td>4</td>\n",
       "      <td>4</td>\n",
       "      <td>2637001</td>\n",
       "      <td>38413</td>\n",
       "      <td>19</td>\n",
       "      <td>0.077447</td>\n",
       "      <td>0.079875</td>\n",
       "      <td>0.083333</td>\n",
       "      <td>0.166667</td>\n",
       "      <td>1</td>\n",
       "      <td>assessment_2637001_38413_19</td>\n",
       "      <td>assessment</td>\n",
       "    </tr>\n",
       "  </tbody>\n",
       "</table>\n",
       "</div>"
      ],
      "text/plain": [
       "   Unnamed: 0.1  Unnamed: 0   sub_id  call_id  seg_id  pred_valence  \\\n",
       "0             0           0  2637001    38413       1      0.029232   \n",
       "1             1           1  2637001    38413      12      0.165131   \n",
       "2             2           2  2637001    38413      15     -0.160544   \n",
       "3             3           3  2637001    38413      18      0.155461   \n",
       "4             4           4  2637001    38413      19      0.077447   \n",
       "\n",
       "   pred_activation  gt_valence  gt_activation  seed  \\\n",
       "0         0.059257    0.250000       0.166667     1   \n",
       "1         0.009661    0.000000       0.000000     1   \n",
       "2         0.009010    0.000000       0.500000     1   \n",
       "3         0.031854    0.166667      -0.166667     1   \n",
       "4         0.079875    0.083333       0.166667     1   \n",
       "\n",
       "                            id         exp  \n",
       "0   assessment_2637001_38413_1  assessment  \n",
       "1  assessment_2637001_38413_12  assessment  \n",
       "2  assessment_2637001_38413_15  assessment  \n",
       "3  assessment_2637001_38413_18  assessment  \n",
       "4  assessment_2637001_38413_19  assessment  "
      ]
     },
     "execution_count": 69,
     "metadata": {},
     "output_type": "execute_result"
    }
   ],
   "source": [
    "df = pd.read_csv('exp/results_both_both_both.csv')\n",
    "df.head()"
   ]
  },
  {
   "cell_type": "code",
   "execution_count": 25,
   "id": "26589cc8-9d39-4e4d-9e7b-7b995064a734",
   "metadata": {},
   "outputs": [],
   "source": [
    "def CCC(y_true, y_pred):\n",
    "    cor=np.corrcoef(y_true,y_pred)[0][1]\n",
    "    \n",
    "    mean_true=np.mean(y_true)\n",
    "    mean_pred=np.mean(y_pred)\n",
    "    \n",
    "    var_true=np.var(y_true)\n",
    "    var_pred=np.var(y_pred)\n",
    "    \n",
    "    sd_true=np.std(y_true)\n",
    "    sd_pred=np.std(y_pred)\n",
    "    \n",
    "    numerator=2*cor*sd_true*sd_pred\n",
    "    denominator=var_true+var_pred+(mean_true-mean_pred)**2\n",
    "    return numerator/denominator\n",
    "\n",
    "def RMSE(y_true, y_pred):\n",
    "    return np.sqrt(((y_pred - y_true) ** 2).mean())\n",
    "\n",
    "\n",
    "def compute_metric_single(y_true, y_pred):\n",
    "    y_true = np.array(y_true)\n",
    "    y_pred = np.array(y_pred)\n",
    "    rmse = RMSE(y_true, y_pred)\n",
    "    ccc = CCC(y_true, y_pred)\n",
    "    pcc = stats.pearsonr(y_true, y_pred)[0]\n",
    "    \n",
    "    print(\"PCC:\", pcc, '\\tCCC:', ccc, '\\tRMSE:', rmse)\n",
    "    return {\"PCC\":pcc, 'CCC':ccc, 'RMSE':rmse}"
   ]
  },
  {
   "cell_type": "code",
   "execution_count": 63,
   "id": "b960378e-d457-408d-81ec-20e78ec524eb",
   "metadata": {},
   "outputs": [
    {
     "name": "stdout",
     "output_type": "stream",
     "text": [
      "8034 12028\n"
     ]
    }
   ],
   "source": [
    "df_assess = pd.read_csv('../data/data_assess_arr.csv')[['id']]\n",
    "df_assess['exp'] = 'assessment'\n",
    "df_personal = pd.read_csv('../data/data_personal_arr.csv')[['id']]\n",
    "df_personal['exp'] = 'personal'\n",
    "df_t = pd.concat([df_assess, df_personal])\n",
    "len(df_t)\n",
    "print(len(df_assess), len(df_personal))"
   ]
  },
  {
   "cell_type": "code",
   "execution_count": 54,
   "id": "08256ceb-c894-4776-ab9f-19c8cd81aefa",
   "metadata": {},
   "outputs": [
    {
     "data": {
      "text/html": [
       "<div>\n",
       "<style scoped>\n",
       "    .dataframe tbody tr th:only-of-type {\n",
       "        vertical-align: middle;\n",
       "    }\n",
       "\n",
       "    .dataframe tbody tr th {\n",
       "        vertical-align: top;\n",
       "    }\n",
       "\n",
       "    .dataframe thead th {\n",
       "        text-align: right;\n",
       "    }\n",
       "</style>\n",
       "<table border=\"1\" class=\"dataframe\">\n",
       "  <thead>\n",
       "    <tr style=\"text-align: right;\">\n",
       "      <th></th>\n",
       "      <th>Unnamed: 0</th>\n",
       "      <th>sub_id</th>\n",
       "      <th>call_id</th>\n",
       "      <th>seg_id</th>\n",
       "      <th>pred_valence</th>\n",
       "      <th>pred_activation</th>\n",
       "      <th>gt_valence</th>\n",
       "      <th>gt_activation</th>\n",
       "      <th>seed</th>\n",
       "      <th>exp_x</th>\n",
       "      <th>id</th>\n",
       "      <th>exp_y</th>\n",
       "    </tr>\n",
       "  </thead>\n",
       "  <tbody>\n",
       "  </tbody>\n",
       "</table>\n",
       "</div>"
      ],
      "text/plain": [
       "Empty DataFrame\n",
       "Columns: [Unnamed: 0, sub_id, call_id, seg_id, pred_valence, pred_activation, gt_valence, gt_activation, seed, exp_x, id, exp_y]\n",
       "Index: []"
      ]
     },
     "execution_count": 54,
     "metadata": {},
     "output_type": "execute_result"
    }
   ],
   "source": [
    "df = df.merge(df_t, how='left', on='id')\n",
    "df.head()"
   ]
  },
  {
   "cell_type": "code",
   "execution_count": 75,
   "id": "fac9c18e-a033-4a35-aef8-a9b7dd4901ba",
   "metadata": {},
   "outputs": [],
   "source": [
    "df.to_csv('exp/results_both_both_both.csv')"
   ]
  },
  {
   "cell_type": "code",
   "execution_count": 74,
   "id": "5efd6bba-3b8b-4d1b-85c7-af999ac16a84",
   "metadata": {},
   "outputs": [
    {
     "data": {
      "text/plain": [
       "100310"
      ]
     },
     "execution_count": 74,
     "metadata": {},
     "output_type": "execute_result"
    }
   ],
   "source": [
    "len(df)"
   ]
  },
  {
   "cell_type": "code",
   "execution_count": 71,
   "id": "d7087153-eee9-4e5b-9ef1-e8156edc915a",
   "metadata": {},
   "outputs": [],
   "source": [
    "df_assess = df[df['exp']=='assessment']\n",
    "df_personal= df[df['exp']=='personal']"
   ]
  },
  {
   "cell_type": "code",
   "execution_count": 72,
   "id": "bb2b39b1-dbcc-47fe-a27c-c22a402f6bc1",
   "metadata": {},
   "outputs": [
    {
     "name": "stdout",
     "output_type": "stream",
     "text": [
      "8034.0 12028.0\n"
     ]
    }
   ],
   "source": [
    "print(len(df_assess)/5, len(df_personal)/5)"
   ]
  },
  {
   "cell_type": "code",
   "execution_count": 73,
   "id": "1ae98b6c-d012-4657-b2a1-2c448d779c50",
   "metadata": {},
   "outputs": [
    {
     "data": {
      "text/html": [
       "<div>\n",
       "<style scoped>\n",
       "    .dataframe tbody tr th:only-of-type {\n",
       "        vertical-align: middle;\n",
       "    }\n",
       "\n",
       "    .dataframe tbody tr th {\n",
       "        vertical-align: top;\n",
       "    }\n",
       "\n",
       "    .dataframe thead th {\n",
       "        text-align: right;\n",
       "    }\n",
       "</style>\n",
       "<table border=\"1\" class=\"dataframe\">\n",
       "  <thead>\n",
       "    <tr style=\"text-align: right;\">\n",
       "      <th></th>\n",
       "      <th>Unnamed: 0.1</th>\n",
       "      <th>Unnamed: 0</th>\n",
       "      <th>sub_id</th>\n",
       "      <th>call_id</th>\n",
       "      <th>seg_id</th>\n",
       "      <th>pred_valence</th>\n",
       "      <th>pred_activation</th>\n",
       "      <th>gt_valence</th>\n",
       "      <th>gt_activation</th>\n",
       "      <th>seed</th>\n",
       "      <th>id</th>\n",
       "      <th>exp</th>\n",
       "    </tr>\n",
       "  </thead>\n",
       "  <tbody>\n",
       "    <tr>\n",
       "      <th>0</th>\n",
       "      <td>0</td>\n",
       "      <td>0</td>\n",
       "      <td>2637001</td>\n",
       "      <td>38413</td>\n",
       "      <td>1</td>\n",
       "      <td>0.029232</td>\n",
       "      <td>0.059257</td>\n",
       "      <td>0.250000</td>\n",
       "      <td>0.166667</td>\n",
       "      <td>1</td>\n",
       "      <td>assessment_2637001_38413_1</td>\n",
       "      <td>assessment</td>\n",
       "    </tr>\n",
       "    <tr>\n",
       "      <th>1</th>\n",
       "      <td>1</td>\n",
       "      <td>1</td>\n",
       "      <td>2637001</td>\n",
       "      <td>38413</td>\n",
       "      <td>12</td>\n",
       "      <td>0.165131</td>\n",
       "      <td>0.009661</td>\n",
       "      <td>0.000000</td>\n",
       "      <td>0.000000</td>\n",
       "      <td>1</td>\n",
       "      <td>assessment_2637001_38413_12</td>\n",
       "      <td>assessment</td>\n",
       "    </tr>\n",
       "    <tr>\n",
       "      <th>2</th>\n",
       "      <td>2</td>\n",
       "      <td>2</td>\n",
       "      <td>2637001</td>\n",
       "      <td>38413</td>\n",
       "      <td>15</td>\n",
       "      <td>-0.160544</td>\n",
       "      <td>0.009010</td>\n",
       "      <td>0.000000</td>\n",
       "      <td>0.500000</td>\n",
       "      <td>1</td>\n",
       "      <td>assessment_2637001_38413_15</td>\n",
       "      <td>assessment</td>\n",
       "    </tr>\n",
       "    <tr>\n",
       "      <th>3</th>\n",
       "      <td>3</td>\n",
       "      <td>3</td>\n",
       "      <td>2637001</td>\n",
       "      <td>38413</td>\n",
       "      <td>18</td>\n",
       "      <td>0.155461</td>\n",
       "      <td>0.031854</td>\n",
       "      <td>0.166667</td>\n",
       "      <td>-0.166667</td>\n",
       "      <td>1</td>\n",
       "      <td>assessment_2637001_38413_18</td>\n",
       "      <td>assessment</td>\n",
       "    </tr>\n",
       "    <tr>\n",
       "      <th>4</th>\n",
       "      <td>4</td>\n",
       "      <td>4</td>\n",
       "      <td>2637001</td>\n",
       "      <td>38413</td>\n",
       "      <td>19</td>\n",
       "      <td>0.077447</td>\n",
       "      <td>0.079875</td>\n",
       "      <td>0.083333</td>\n",
       "      <td>0.166667</td>\n",
       "      <td>1</td>\n",
       "      <td>assessment_2637001_38413_19</td>\n",
       "      <td>assessment</td>\n",
       "    </tr>\n",
       "  </tbody>\n",
       "</table>\n",
       "</div>"
      ],
      "text/plain": [
       "   Unnamed: 0.1  Unnamed: 0   sub_id  call_id  seg_id  pred_valence  \\\n",
       "0             0           0  2637001    38413       1      0.029232   \n",
       "1             1           1  2637001    38413      12      0.165131   \n",
       "2             2           2  2637001    38413      15     -0.160544   \n",
       "3             3           3  2637001    38413      18      0.155461   \n",
       "4             4           4  2637001    38413      19      0.077447   \n",
       "\n",
       "   pred_activation  gt_valence  gt_activation  seed  \\\n",
       "0         0.059257    0.250000       0.166667     1   \n",
       "1         0.009661    0.000000       0.000000     1   \n",
       "2         0.009010    0.000000       0.500000     1   \n",
       "3         0.031854    0.166667      -0.166667     1   \n",
       "4         0.079875    0.083333       0.166667     1   \n",
       "\n",
       "                            id         exp  \n",
       "0   assessment_2637001_38413_1  assessment  \n",
       "1  assessment_2637001_38413_12  assessment  \n",
       "2  assessment_2637001_38413_15  assessment  \n",
       "3  assessment_2637001_38413_18  assessment  \n",
       "4  assessment_2637001_38413_19  assessment  "
      ]
     },
     "execution_count": 73,
     "metadata": {},
     "output_type": "execute_result"
    }
   ],
   "source": [
    "df.head()"
   ]
  },
  {
   "cell_type": "code",
   "execution_count": 83,
   "id": "bd0eb5c5-fb6e-4453-b824-697f376991de",
   "metadata": {},
   "outputs": [
    {
     "name": "stdout",
     "output_type": "stream",
     "text": [
      "60140\n",
      "PCC: 0.324925910111167 \tCCC: 0.2704263190851378 \tRMSE: 0.23684532748986048\n",
      "PCC: 0.5066787886172188 \tCCC: 0.4818778653508371 \tRMSE: 0.22646240962373637\n",
      "PCC: 0.32091904862058057 \tCCC: 0.26238855341713435 \tRMSE: 0.23568393800085202\n",
      "PCC: 0.5149660611777512 \tCCC: 0.4942498701656933 \tRMSE: 0.22785768529280193\n",
      "PCC: 0.3179163896234686 \tCCC: 0.2571233473456896 \tRMSE: 0.23658788399276542\n",
      "PCC: 0.5127803678806193 \tCCC: 0.48622720698922633 \tRMSE: 0.2241998297085977\n",
      "PCC: 0.3203390546134836 \tCCC: 0.2649312030810493 \tRMSE: 0.23563764601252837\n",
      "PCC: 0.5090690299126405 \tCCC: 0.48718067783960156 \tRMSE: 0.22656133338783385\n",
      "PCC: 0.312085518725141 \tCCC: 0.2534928706487689 \tRMSE: 0.23606410401662464\n",
      "PCC: 0.514546420378105 \tCCC: 0.49160636866846796 \tRMSE: 0.2253943337115931\n"
     ]
    }
   ],
   "source": [
    "df = df_personal\n",
    "print(len(df))\n",
    "subjects = list(df['sub_id'].unique())\n",
    "# for s in subjects:\n",
    "#     df_s = df[df['subject']==s]\n",
    "ccc_act = []\n",
    "pcc_act = []\n",
    "rmse_act = []\n",
    "ccc_val = []\n",
    "pcc_val = []\n",
    "rmse_val = []\n",
    "if True:\n",
    "    for seed in [1, 2, 3, 4, 5]:\n",
    "        df_s_seed = df[df['seed']==seed]\n",
    "        val_true = np.array(df_s_seed['gt_valence'])\n",
    "        val_pred = np.array(df_s_seed['pred_valence'])\n",
    "        act_true = np.array(df_s_seed['gt_activation'])\n",
    "        act_pred = np.array(df_s_seed['pred_activation'])\n",
    "        metric_act = compute_metric_single(act_true, act_pred)\n",
    "        metric_val = compute_metric_single(val_true, val_pred)\n",
    "        ccc_act.append(metric_act['CCC'])\n",
    "        pcc_act.append(metric_act['PCC'])\n",
    "        rmse_act.append(metric_act['RMSE'])\n",
    "        ccc_val.append(metric_val['CCC'])\n",
    "        pcc_val.append(metric_val['PCC'])\n",
    "        rmse_val.append(metric_val['RMSE'])"
   ]
  },
  {
   "cell_type": "code",
   "execution_count": 84,
   "id": "deea4af6-902e-4120-85e6-58ebf67576bd",
   "metadata": {},
   "outputs": [],
   "source": [
    "def print_mean_std(arr):\n",
    "    arr = np.array(arr)\n",
    "    print(arr.mean(), arr.std())"
   ]
  },
  {
   "cell_type": "code",
   "execution_count": 90,
   "id": "99495c95-eced-4139-b9ff-6164280ea866",
   "metadata": {},
   "outputs": [
    {
     "name": "stdout",
     "output_type": "stream",
     "text": [
      "0.261672458715556 0.005922201499935163\n"
     ]
    }
   ],
   "source": [
    "print_mean_std(ccc_act)"
   ]
  },
  {
   "cell_type": "code",
   "execution_count": null,
   "id": "7710a4f2-92ef-497f-bed4-84b19667c920",
   "metadata": {},
   "outputs": [],
   "source": []
  }
 ],
 "metadata": {
  "kernelspec": {
   "display_name": "Python 3 (ipykernel)",
   "language": "python",
   "name": "python3"
  },
  "language_info": {
   "codemirror_mode": {
    "name": "ipython",
    "version": 3
   },
   "file_extension": ".py",
   "mimetype": "text/x-python",
   "name": "python",
   "nbconvert_exporter": "python",
   "pygments_lexer": "ipython3",
   "version": "3.10.4"
  }
 },
 "nbformat": 4,
 "nbformat_minor": 5
}
